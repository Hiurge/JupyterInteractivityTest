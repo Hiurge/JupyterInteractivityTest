{
 "cells": [
  {
   "cell_type": "code",
   "execution_count": 29,
   "metadata": {},
   "outputs": [
    {
     "data": {
      "application/vnd.jupyter.widget-view+json": {
       "model_id": "241828794f3742de8cade09482e02fd0",
       "version_major": 2,
       "version_minor": 0
      },
      "text/plain": [
       "interactive(children=(IntSlider(value=0, description='miniX', max=10, min=-10), IntSlider(value=30, descriptio…"
      ]
     },
     "metadata": {},
     "output_type": "display_data"
    }
   ],
   "source": [
    "# Libs\n",
    "import numpy as np\n",
    "\n",
    "# Plotting\n",
    "%matplotlib inline\n",
    "import matplotlib.pyplot as plt\n",
    "\n",
    "# Jupyter ipywidgets controll\n",
    "from  ipywidgets import interact, interactive, fixed, interact_manual\n",
    "import ipywidgets as widgets\n",
    "from IPython.display import display\n",
    "\n",
    "\n",
    "def plot_it(miniX, maxiX, sizeX, sqrt_Y1,sqrt_Y2):\n",
    "    x = np.linspace(miniX, maxiX, sizeX)\n",
    "    y1 = x ** sqrt_Y1\n",
    "    y2 = x ** sqrt_Y2\n",
    "    plt.plot(x, y1, \"b-\", x, y2, \"k--\")\n",
    "    plt.show()\n",
    "\n",
    "controll = interactive(plot_it,\n",
    "                        miniX=(-10,10,1),\n",
    "                        maxiX=(30,50,500),\n",
    "                        sizeX=(10, 100, 10),\n",
    "                        sqrt_Y1=(0.1, 3.0, 0.1),\n",
    "                        sqrt_Y2=(0.1, 3.0, 0.1))   \n",
    "display(controll)"
   ]
  },
  {
   "cell_type": "code",
   "execution_count": null,
   "metadata": {},
   "outputs": [],
   "source": []
  },
  {
   "cell_type": "code",
   "execution_count": null,
   "metadata": {},
   "outputs": [],
   "source": []
  },
  {
   "cell_type": "code",
   "execution_count": null,
   "metadata": {},
   "outputs": [],
   "source": []
  },
  {
   "cell_type": "code",
   "execution_count": null,
   "metadata": {},
   "outputs": [],
   "source": []
  },
  {
   "cell_type": "code",
   "execution_count": null,
   "metadata": {},
   "outputs": [],
   "source": []
  },
  {
   "cell_type": "code",
   "execution_count": null,
   "metadata": {},
   "outputs": [],
   "source": []
  }
 ],
 "metadata": {
  "kernelspec": {
   "display_name": "Python 3",
   "language": "python",
   "name": "python3"
  },
  "language_info": {
   "codemirror_mode": {
    "name": "ipython",
    "version": 3
   },
   "file_extension": ".py",
   "mimetype": "text/x-python",
   "name": "python",
   "nbconvert_exporter": "python",
   "pygments_lexer": "ipython3",
   "version": "3.6.4"
  }
 },
 "nbformat": 4,
 "nbformat_minor": 2
}
